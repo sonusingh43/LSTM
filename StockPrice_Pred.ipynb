{
  "nbformat": 4,
  "nbformat_minor": 0,
  "metadata": {
    "colab": {
      "name": "StockPrice.ipynb",
      "provenance": [],
      "collapsed_sections": []
    },
    "kernelspec": {
      "name": "python3",
      "display_name": "Python 3"
    }
  },
  "cells": [
    {
      "cell_type": "code",
      "metadata": {
        "id": "5HCqQw7VuFGt",
        "colab_type": "code",
        "colab": {}
      },
      "source": [
        "import numpy as np\n",
        "import matplotlib.pyplot as plt\n",
        "import pandas as pd"
      ],
      "execution_count": 0,
      "outputs": []
    },
    {
      "cell_type": "code",
      "metadata": {
        "id": "py-lpvGMuKVD",
        "colab_type": "code",
        "outputId": "6d35a626-7a5c-4969-fcad-ddbed427a98b",
        "colab": {
          "resources": {
            "http://localhost:8080/nbextensions/google.colab/files.js": {
              "data": "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",
              "ok": true,
              "headers": [
                [
                  "content-type",
                  "application/javascript"
                ]
              ],
              "status": 200,
              "status_text": ""
            }
          },
          "base_uri": "https://localhost:8080/",
          "height": 108
        }
      },
      "source": [
        "from google.colab import files\n",
        "uploaded = files.upload()"
      ],
      "execution_count": 0,
      "outputs": [
        {
          "output_type": "display_data",
          "data": {
            "text/html": [
              "\n",
              "     <input type=\"file\" id=\"files-042f8163-23f6-41b2-a6b8-372e83f0d520\" name=\"files[]\" multiple disabled />\n",
              "     <output id=\"result-042f8163-23f6-41b2-a6b8-372e83f0d520\">\n",
              "      Upload widget is only available when the cell has been executed in the\n",
              "      current browser session. Please rerun this cell to enable.\n",
              "      </output>\n",
              "      <script src=\"/nbextensions/google.colab/files.js\"></script> "
            ],
            "text/plain": [
              "<IPython.core.display.HTML object>"
            ]
          },
          "metadata": {
            "tags": []
          }
        },
        {
          "output_type": "stream",
          "text": [
            "Saving Google_Stock_Price_Test.csv to Google_Stock_Price_Test (1).csv\n",
            "Saving Google_Stock_Price_Train.csv to Google_Stock_Price_Train (1).csv\n"
          ],
          "name": "stdout"
        }
      ]
    },
    {
      "cell_type": "code",
      "metadata": {
        "id": "nD161NfDu5gu",
        "colab_type": "code",
        "colab": {}
      },
      "source": [
        "# Importing the training set\n",
        "dataset_train = pd.read_csv('Google_Stock_Price_Train.csv')\n",
        "training_set = dataset_train.iloc[:, 1:2].values\n",
        "\n",
        "# Feature Scaling\n",
        "from sklearn.preprocessing import MinMaxScaler\n",
        "sc = MinMaxScaler(feature_range = (0, 1))\n",
        "training_set_scaled = sc.fit_transform(training_set)"
      ],
      "execution_count": 0,
      "outputs": []
    },
    {
      "cell_type": "code",
      "metadata": {
        "id": "8_lo5KRbvG8K",
        "colab_type": "code",
        "colab": {}
      },
      "source": [
        "# Creating a data structure with 60 timesteps and 1 output\n",
        "X_train = []\n",
        "y_train = []\n",
        "for i in range(60, 1258):\n",
        "    X_train.append(training_set_scaled[i-60:i, 0])\n",
        "    y_train.append(training_set_scaled[i, 0])\n",
        "X_train, y_train = np.array(X_train), np.array(y_train)\n",
        "\n",
        "# Reshaping\n",
        "X_train = np.reshape(X_train, (X_train.shape[0], X_train.shape[1], 1))"
      ],
      "execution_count": 0,
      "outputs": []
    },
    {
      "cell_type": "code",
      "metadata": {
        "id": "7Jhu7YAxvNfD",
        "colab_type": "code",
        "colab": {}
      },
      "source": [
        "# Part 2 - Building the RNN\n",
        "\n",
        "# Importing the Keras libraries and packages\n",
        "from keras.models import Sequential\n",
        "from keras.layers import Dense\n",
        "from keras.layers import LSTM\n",
        "from keras.layers import Dropout\n",
        "\n",
        "# Initialising the RNN\n",
        "regressor = Sequential()\n",
        "\n",
        "# Adding the first LSTM layer and some Dropout regularisation\n",
        "regressor.add(LSTM(units = 100, return_sequences = True, input_shape = (X_train.shape[1], 1)))\n",
        "regressor.add(Dropout(0.2))\n",
        "\n",
        "# Adding a second LSTM layer and some Dropout regularisation\n",
        "regressor.add(LSTM(units = 100, return_sequences = True))\n",
        "regressor.add(Dropout(0.2))"
      ],
      "execution_count": 0,
      "outputs": []
    },
    {
      "cell_type": "code",
      "metadata": {
        "id": "aQfyvpJwvXYE",
        "colab_type": "code",
        "outputId": "de7eb5d4-4134-4663-b6f2-8ca019ec6db9",
        "colab": {
          "base_uri": "https://localhost:8080/",
          "height": 1000
        }
      },
      "source": [
        "# Adding a third LSTM layer and some Dropout regularisation\n",
        "regressor.add(LSTM(units = 100, return_sequences = True))\n",
        "regressor.add(Dropout(0.2))\n",
        "\n",
        " #Adding a fourth LSTM layer and some Dropout regularisation\n",
        "regressor.add(LSTM(units = 100))\n",
        "regressor.add(Dropout(0.2))\n",
        "\n",
        "# Adding the output layer\n",
        "regressor.add(Dense(units = 1))\n",
        "#regressor.add(activation='sigmoid')\n",
        "\n",
        "# Compiling the RNN\n",
        "regressor.compile(loss='mean_squared_error', optimizer='adam', metrics=['accuracy'])\n",
        "#print(regressor.summary())\n",
        "\n",
        "\n",
        "\n",
        "\n",
        "#regressor.compile(optimizer= 'adam', loss = 'accuracy')\n",
        "\n",
        "# Fitting the RNN to the Training set\n",
        "regressor.fit(X_train, y_train, epochs = 120, batch_size = 32)\n",
        "\n",
        "\n",
        "\n",
        "# Part 3 - Making the predictions and visualising the results\n",
        "\n",
        "# Getting the real stock price of 2017\n",
        "dataset_test = pd.read_csv('Google_Stock_Price_Test.csv')\n",
        "real_stock_price = dataset_test.iloc[:, 1:2].values\n",
        "\n",
        "# Getting the predicted stock price of 2017\n",
        "dataset_total = pd.concat((dataset_train['Open'], dataset_test['Open']), axis = 0)\n",
        "inputs = dataset_total[len(dataset_total) - len(dataset_test) - 60:].values\n",
        "inputs = inputs.reshape(-1,1)\n",
        "inputs = sc.transform(inputs)\n",
        "X_test = []\n",
        "for i in range(60, 80):\n",
        "    X_test.append(inputs[i-60:i, 0])\n",
        "X_test = np.array(X_test)\n",
        "X_test = np.reshape(X_test, (X_test.shape[0], X_test.shape[1], 1))\n",
        "predicted_stock_price = regressor.predict(X_test)\n",
        "predicted_stock_price = sc.inverse_transform(predicted_stock_price)"
      ],
      "execution_count": 61,
      "outputs": [
        {
          "output_type": "stream",
          "text": [
            "Epoch 1/120\n",
            "1198/1198 [==============================] - 20s 16ms/step - loss: 0.0725 - acc: 0.0017\n",
            "Epoch 2/120\n",
            "1198/1198 [==============================] - 14s 11ms/step - loss: 0.0062 - acc: 0.0017\n",
            "Epoch 3/120\n",
            "1198/1198 [==============================] - 13s 11ms/step - loss: 0.0045 - acc: 0.0017\n",
            "Epoch 4/120\n",
            "1198/1198 [==============================] - 13s 11ms/step - loss: 0.0044 - acc: 0.0017\n",
            "Epoch 5/120\n",
            "1198/1198 [==============================] - 13s 11ms/step - loss: 0.0041 - acc: 0.0017\n",
            "Epoch 6/120\n",
            "1198/1198 [==============================] - 13s 11ms/step - loss: 0.0040 - acc: 0.0017\n",
            "Epoch 7/120\n",
            "1198/1198 [==============================] - 13s 11ms/step - loss: 0.0043 - acc: 0.0017\n",
            "Epoch 8/120\n",
            "1198/1198 [==============================] - 13s 11ms/step - loss: 0.0041 - acc: 0.0017\n",
            "Epoch 9/120\n",
            "1198/1198 [==============================] - 13s 11ms/step - loss: 0.0035 - acc: 0.0017\n",
            "Epoch 10/120\n",
            "1198/1198 [==============================] - 13s 11ms/step - loss: 0.0037 - acc: 0.0017\n",
            "Epoch 11/120\n",
            "1198/1198 [==============================] - 14s 11ms/step - loss: 0.0033 - acc: 0.0017\n",
            "Epoch 12/120\n",
            "1198/1198 [==============================] - 13s 11ms/step - loss: 0.0032 - acc: 0.0017\n",
            "Epoch 13/120\n",
            "1198/1198 [==============================] - 13s 11ms/step - loss: 0.0031 - acc: 0.0017\n",
            "Epoch 14/120\n",
            "1198/1198 [==============================] - 13s 11ms/step - loss: 0.0032 - acc: 0.0017\n",
            "Epoch 15/120\n",
            "1198/1198 [==============================] - 14s 11ms/step - loss: 0.0030 - acc: 0.0017\n",
            "Epoch 16/120\n",
            "1198/1198 [==============================] - 14s 12ms/step - loss: 0.0028 - acc: 0.0017\n",
            "Epoch 17/120\n",
            "1198/1198 [==============================] - 14s 11ms/step - loss: 0.0033 - acc: 0.0017\n",
            "Epoch 18/120\n",
            "1198/1198 [==============================] - 13s 11ms/step - loss: 0.0033 - acc: 0.0017\n",
            "Epoch 19/120\n",
            "1198/1198 [==============================] - 13s 11ms/step - loss: 0.0028 - acc: 0.0017\n",
            "Epoch 20/120\n",
            "1198/1198 [==============================] - 14s 12ms/step - loss: 0.0032 - acc: 0.0017\n",
            "Epoch 21/120\n",
            "1198/1198 [==============================] - 14s 12ms/step - loss: 0.0029 - acc: 0.0017\n",
            "Epoch 22/120\n",
            "1198/1198 [==============================] - 14s 12ms/step - loss: 0.0027 - acc: 0.0017\n",
            "Epoch 23/120\n",
            "1198/1198 [==============================] - 13s 11ms/step - loss: 0.0028 - acc: 0.0017\n",
            "Epoch 24/120\n",
            "1198/1198 [==============================] - 14s 11ms/step - loss: 0.0026 - acc: 0.0017\n",
            "Epoch 25/120\n",
            "1198/1198 [==============================] - 14s 12ms/step - loss: 0.0027 - acc: 0.0017\n",
            "Epoch 26/120\n",
            "1198/1198 [==============================] - 14s 11ms/step - loss: 0.0028 - acc: 0.0017\n",
            "Epoch 27/120\n",
            "1198/1198 [==============================] - 13s 11ms/step - loss: 0.0026 - acc: 0.0017\n",
            "Epoch 28/120\n",
            "1198/1198 [==============================] - 14s 11ms/step - loss: 0.0032 - acc: 0.0017\n",
            "Epoch 29/120\n",
            "1198/1198 [==============================] - 14s 11ms/step - loss: 0.0024 - acc: 0.0017\n",
            "Epoch 30/120\n",
            "1198/1198 [==============================] - 14s 11ms/step - loss: 0.0022 - acc: 0.0017\n",
            "Epoch 31/120\n",
            "1198/1198 [==============================] - 14s 11ms/step - loss: 0.0023 - acc: 0.0017\n",
            "Epoch 32/120\n",
            "1198/1198 [==============================] - 13s 11ms/step - loss: 0.0028 - acc: 0.0017\n",
            "Epoch 33/120\n",
            "1198/1198 [==============================] - 14s 11ms/step - loss: 0.0024 - acc: 0.0017\n",
            "Epoch 34/120\n",
            "1198/1198 [==============================] - 14s 11ms/step - loss: 0.0028 - acc: 0.0017\n",
            "Epoch 35/120\n",
            "1198/1198 [==============================] - 14s 11ms/step - loss: 0.0023 - acc: 0.0017\n",
            "Epoch 36/120\n",
            "1198/1198 [==============================] - 13s 11ms/step - loss: 0.0025 - acc: 0.0017\n",
            "Epoch 37/120\n",
            "1198/1198 [==============================] - 13s 11ms/step - loss: 0.0021 - acc: 0.0017\n",
            "Epoch 38/120\n",
            "1198/1198 [==============================] - 14s 11ms/step - loss: 0.0026 - acc: 0.0017\n",
            "Epoch 39/120\n",
            "1198/1198 [==============================] - 14s 11ms/step - loss: 0.0024 - acc: 0.0017\n",
            "Epoch 40/120\n",
            "1198/1198 [==============================] - 13s 11ms/step - loss: 0.0021 - acc: 0.0017\n",
            "Epoch 41/120\n",
            "1198/1198 [==============================] - 13s 11ms/step - loss: 0.0023 - acc: 0.0017\n",
            "Epoch 42/120\n",
            "1198/1198 [==============================] - 14s 11ms/step - loss: 0.0023 - acc: 0.0017\n",
            "Epoch 43/120\n",
            "1198/1198 [==============================] - 14s 11ms/step - loss: 0.0021 - acc: 0.0017\n",
            "Epoch 44/120\n",
            "1198/1198 [==============================] - 14s 11ms/step - loss: 0.0020 - acc: 0.0017\n",
            "Epoch 45/120\n",
            "1198/1198 [==============================] - 13s 11ms/step - loss: 0.0026 - acc: 0.0017\n",
            "Epoch 46/120\n",
            "1198/1198 [==============================] - 14s 11ms/step - loss: 0.0021 - acc: 0.0017\n",
            "Epoch 47/120\n",
            "1198/1198 [==============================] - 14s 12ms/step - loss: 0.0023 - acc: 0.0017\n",
            "Epoch 48/120\n",
            "1198/1198 [==============================] - 14s 11ms/step - loss: 0.0021 - acc: 0.0017\n",
            "Epoch 49/120\n",
            "1198/1198 [==============================] - 14s 12ms/step - loss: 0.0024 - acc: 0.0017\n",
            "Epoch 50/120\n",
            "1198/1198 [==============================] - 13s 11ms/step - loss: 0.0018 - acc: 0.0017\n",
            "Epoch 51/120\n",
            "1198/1198 [==============================] - 14s 11ms/step - loss: 0.0025 - acc: 0.0017\n",
            "Epoch 52/120\n",
            "1198/1198 [==============================] - 13s 11ms/step - loss: 0.0018 - acc: 0.0017\n",
            "Epoch 53/120\n",
            "1198/1198 [==============================] - 13s 11ms/step - loss: 0.0019 - acc: 0.0017\n",
            "Epoch 54/120\n",
            "1198/1198 [==============================] - 13s 11ms/step - loss: 0.0019 - acc: 0.0017\n",
            "Epoch 55/120\n",
            "1198/1198 [==============================] - 14s 11ms/step - loss: 0.0020 - acc: 0.0017\n",
            "Epoch 56/120\n",
            "1198/1198 [==============================] - 14s 11ms/step - loss: 0.0017 - acc: 0.0017\n",
            "Epoch 57/120\n",
            "1198/1198 [==============================] - 14s 11ms/step - loss: 0.0018 - acc: 0.0017\n",
            "Epoch 58/120\n",
            "1198/1198 [==============================] - 13s 11ms/step - loss: 0.0017 - acc: 0.0017\n",
            "Epoch 59/120\n",
            "1198/1198 [==============================] - 13s 11ms/step - loss: 0.0017 - acc: 0.0017\n",
            "Epoch 60/120\n",
            "1198/1198 [==============================] - 14s 11ms/step - loss: 0.0017 - acc: 0.0017\n",
            "Epoch 61/120\n",
            "1198/1198 [==============================] - 14s 11ms/step - loss: 0.0017 - acc: 0.0017\n",
            "Epoch 62/120\n",
            "1198/1198 [==============================] - 14s 11ms/step - loss: 0.0019 - acc: 0.0017\n",
            "Epoch 63/120\n",
            "1198/1198 [==============================] - 13s 11ms/step - loss: 0.0017 - acc: 0.0017\n",
            "Epoch 64/120\n",
            "1198/1198 [==============================] - 14s 11ms/step - loss: 0.0018 - acc: 0.0017\n",
            "Epoch 65/120\n",
            "1198/1198 [==============================] - 14s 11ms/step - loss: 0.0018 - acc: 0.0017\n",
            "Epoch 66/120\n",
            "1198/1198 [==============================] - 14s 11ms/step - loss: 0.0015 - acc: 0.0017\n",
            "Epoch 67/120\n",
            "1198/1198 [==============================] - 13s 11ms/step - loss: 0.0022 - acc: 0.0017\n",
            "Epoch 68/120\n",
            "1198/1198 [==============================] - 13s 11ms/step - loss: 0.0016 - acc: 0.0017\n",
            "Epoch 69/120\n",
            "1198/1198 [==============================] - 14s 11ms/step - loss: 0.0017 - acc: 0.0017\n",
            "Epoch 70/120\n",
            "1198/1198 [==============================] - 14s 12ms/step - loss: 0.0015 - acc: 0.0017\n",
            "Epoch 71/120\n",
            "1198/1198 [==============================] - 13s 11ms/step - loss: 0.0016 - acc: 0.0017\n",
            "Epoch 72/120\n",
            "1198/1198 [==============================] - 13s 11ms/step - loss: 0.0016 - acc: 0.0017\n",
            "Epoch 73/120\n",
            "1198/1198 [==============================] - 14s 11ms/step - loss: 0.0014 - acc: 0.0017\n",
            "Epoch 74/120\n",
            "1198/1198 [==============================] - 14s 11ms/step - loss: 0.0015 - acc: 0.0017\n",
            "Epoch 75/120\n",
            "1198/1198 [==============================] - 13s 11ms/step - loss: 0.0015 - acc: 0.0017\n",
            "Epoch 76/120\n",
            "1198/1198 [==============================] - 13s 11ms/step - loss: 0.0014 - acc: 0.0017\n",
            "Epoch 77/120\n",
            "1198/1198 [==============================] - 14s 11ms/step - loss: 0.0015 - acc: 0.0017\n",
            "Epoch 78/120\n",
            "1198/1198 [==============================] - 14s 11ms/step - loss: 0.0014 - acc: 0.0017\n",
            "Epoch 79/120\n",
            "1198/1198 [==============================] - 14s 11ms/step - loss: 0.0015 - acc: 0.0017\n",
            "Epoch 80/120\n",
            "1198/1198 [==============================] - 14s 11ms/step - loss: 0.0014 - acc: 0.0017\n",
            "Epoch 81/120\n",
            "1198/1198 [==============================] - 14s 11ms/step - loss: 0.0013 - acc: 0.0017\n",
            "Epoch 82/120\n",
            "1198/1198 [==============================] - 14s 12ms/step - loss: 0.0013 - acc: 0.0017\n",
            "Epoch 83/120\n",
            "1198/1198 [==============================] - 14s 12ms/step - loss: 0.0016 - acc: 0.0017\n",
            "Epoch 84/120\n",
            "1198/1198 [==============================] - 14s 11ms/step - loss: 0.0017 - acc: 0.0017\n",
            "Epoch 85/120\n",
            "1198/1198 [==============================] - 13s 11ms/step - loss: 0.0016 - acc: 0.0017\n",
            "Epoch 86/120\n",
            "1198/1198 [==============================] - 14s 11ms/step - loss: 0.0014 - acc: 0.0017\n",
            "Epoch 87/120\n",
            "1198/1198 [==============================] - 14s 11ms/step - loss: 0.0014 - acc: 0.0017\n",
            "Epoch 88/120\n",
            "1198/1198 [==============================] - 14s 11ms/step - loss: 0.0014 - acc: 0.0017\n",
            "Epoch 89/120\n",
            "1198/1198 [==============================] - 13s 11ms/step - loss: 0.0012 - acc: 0.0017\n",
            "Epoch 90/120\n",
            "1198/1198 [==============================] - 14s 11ms/step - loss: 0.0012 - acc: 0.0017\n",
            "Epoch 91/120\n",
            "1198/1198 [==============================] - 14s 11ms/step - loss: 0.0012 - acc: 0.0017\n",
            "Epoch 92/120\n",
            "1198/1198 [==============================] - 14s 11ms/step - loss: 0.0014 - acc: 0.0017\n",
            "Epoch 93/120\n",
            "1198/1198 [==============================] - 14s 11ms/step - loss: 0.0013 - acc: 0.0017\n",
            "Epoch 94/120\n",
            "1198/1198 [==============================] - 14s 11ms/step - loss: 0.0013 - acc: 0.0017\n",
            "Epoch 95/120\n",
            "1198/1198 [==============================] - 14s 11ms/step - loss: 0.0012 - acc: 0.0017\n",
            "Epoch 96/120\n",
            "1198/1198 [==============================] - 14s 11ms/step - loss: 0.0013 - acc: 0.0017\n",
            "Epoch 97/120\n",
            "1198/1198 [==============================] - 14s 11ms/step - loss: 0.0014 - acc: 0.0017\n",
            "Epoch 98/120\n",
            "1198/1198 [==============================] - 13s 11ms/step - loss: 0.0013 - acc: 0.0017\n",
            "Epoch 99/120\n",
            "1198/1198 [==============================] - 14s 11ms/step - loss: 0.0012 - acc: 0.0017\n",
            "Epoch 100/120\n",
            "1198/1198 [==============================] - 14s 11ms/step - loss: 0.0013 - acc: 0.0017\n",
            "Epoch 101/120\n",
            "1198/1198 [==============================] - 14s 11ms/step - loss: 0.0012 - acc: 0.0017\n",
            "Epoch 102/120\n",
            "1198/1198 [==============================] - 13s 11ms/step - loss: 0.0013 - acc: 0.0017\n",
            "Epoch 103/120\n",
            "1198/1198 [==============================] - 13s 11ms/step - loss: 0.0014 - acc: 0.0017\n",
            "Epoch 104/120\n",
            "1198/1198 [==============================] - 14s 11ms/step - loss: 0.0012 - acc: 0.0017\n",
            "Epoch 105/120\n",
            "1198/1198 [==============================] - 14s 11ms/step - loss: 0.0011 - acc: 0.0017\n",
            "Epoch 106/120\n",
            "1198/1198 [==============================] - 14s 11ms/step - loss: 0.0012 - acc: 0.0017\n",
            "Epoch 107/120\n",
            "1198/1198 [==============================] - 13s 11ms/step - loss: 0.0011 - acc: 0.0017\n",
            "Epoch 108/120\n",
            "1198/1198 [==============================] - 14s 11ms/step - loss: 0.0011 - acc: 0.0017\n",
            "Epoch 109/120\n",
            "1198/1198 [==============================] - 14s 11ms/step - loss: 0.0012 - acc: 0.0017\n",
            "Epoch 110/120\n",
            "1198/1198 [==============================] - 14s 11ms/step - loss: 0.0011 - acc: 0.0017\n",
            "Epoch 111/120\n",
            "1198/1198 [==============================] - 13s 11ms/step - loss: 0.0012 - acc: 0.0017\n",
            "Epoch 112/120\n",
            "1198/1198 [==============================] - 13s 11ms/step - loss: 0.0011 - acc: 0.0017\n",
            "Epoch 113/120\n",
            "1198/1198 [==============================] - 14s 11ms/step - loss: 0.0012 - acc: 0.0017\n",
            "Epoch 114/120\n",
            "1198/1198 [==============================] - 14s 11ms/step - loss: 0.0015 - acc: 0.0017\n",
            "Epoch 115/120\n",
            "1198/1198 [==============================] - 14s 11ms/step - loss: 0.0012 - acc: 0.0017\n",
            "Epoch 116/120\n",
            "1198/1198 [==============================] - 13s 11ms/step - loss: 0.0011 - acc: 0.0017\n",
            "Epoch 117/120\n",
            "1198/1198 [==============================] - 14s 11ms/step - loss: 0.0012 - acc: 0.0017\n",
            "Epoch 118/120\n",
            "1198/1198 [==============================] - 14s 11ms/step - loss: 0.0012 - acc: 0.0017\n",
            "Epoch 119/120\n",
            "1198/1198 [==============================] - 14s 11ms/step - loss: 0.0012 - acc: 0.0017\n",
            "Epoch 120/120\n",
            "1198/1198 [==============================] - 13s 11ms/step - loss: 0.0011 - acc: 0.0017\n"
          ],
          "name": "stdout"
        }
      ]
    },
    {
      "cell_type": "code",
      "metadata": {
        "id": "h9U4CUYbvfdb",
        "colab_type": "code",
        "outputId": "c06a7c36-f35e-4fe6-b653-aec028751fc1",
        "colab": {
          "base_uri": "https://localhost:8080/",
          "height": 295
        }
      },
      "source": [
        "# Visualising the results\n",
        "plt.plot(real_stock_price, color = 'red', label = 'Actual Stock Price')\n",
        "plt.plot(predicted_stock_price, color = 'blue', label = 'Predicted Stock Price')\n",
        "plt.title('Stock Price Prediction')\n",
        "plt.xlabel('Time')\n",
        "plt.ylabel('Stock Price')\n",
        "plt.legend()\n",
        "plt.show()\n"
      ],
      "execution_count": 62,
      "outputs": [
        {
          "output_type": "display_data",
          "data": {
            "image/png": "[encoded data removed]",
            "text/plain": [
              "<Figure size 432x288 with 1 Axes>"
            ]
          },
          "metadata": {
            "tags": []
          }
        }
      ]
    },
    {
      "cell_type": "code",
      "metadata": {
        "id": "yzn4FlPVxWL7",
        "colab_type": "code",
        "colab": {}
      },
      "source": [
        ""
      ],
      "execution_count": 0,
      "outputs": []
    }
  ]
}